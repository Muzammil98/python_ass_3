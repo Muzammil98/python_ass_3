{
 "cells": [
  {
   "cell_type": "code",
   "execution_count": 1,
   "metadata": {},
   "outputs": [
    {
     "name": "stdout",
     "output_type": "stream",
     "text": [
      "First Digit:8\n",
      "Second Digit:6\n",
      "1) Addition\n",
      "2)Subtraction\n",
      "3)Multiplication\n",
      "4)Division\n",
      "5)Power\n",
      "Choose operation no.:5\n",
      "8 ^ 6 = 262144\n"
     ]
    }
   ],
   "source": [
    "n = int(input('First Digit:'))\n",
    "m = int(input('Second Digit:'))\n",
    "\n",
    "print('1) Addition\\n2)Subtraction\\n3)Multiplication\\n4)Division\\n5)Power')\n",
    "choice = int(input('Choose operation no.:'))\n",
    "\n",
    "if choice == 1:\n",
    " print( n, \"+\", m, \"=\", n + m)\n",
    "elif choice == 2:\n",
    " print( n, \"-\", m, \"=\", n - m)\n",
    "elif choice == 3:\n",
    " print( n, \"*\", m, \"=\", n * m)\n",
    "elif choice == 4:\n",
    " print( n, \"/\", m, \"=\", n / m)\n",
    "elif choice == 5:\n",
    " print( n, \"^\", m, \"=\", (pow(n,m)))\n",
    "else:\n",
    " print(\"Wrong input\")\n"
   ]
  },
  {
   "cell_type": "code",
   "execution_count": null,
   "metadata": {},
   "outputs": [],
   "source": []
  }
 ],
 "metadata": {
  "kernelspec": {
   "display_name": "Python 3",
   "language": "python",
   "name": "python3"
  },
  "language_info": {
   "codemirror_mode": {
    "name": "ipython",
    "version": 3
   },
   "file_extension": ".py",
   "mimetype": "text/x-python",
   "name": "python",
   "nbconvert_exporter": "python",
   "pygments_lexer": "ipython3",
   "version": "3.7.3"
  }
 },
 "nbformat": 4,
 "nbformat_minor": 2
}
