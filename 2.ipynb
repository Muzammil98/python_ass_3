{
 "cells": [
  {
   "cell_type": "code",
   "execution_count": 1,
   "metadata": {},
   "outputs": [
    {
     "name": "stdout",
     "output_type": "stream",
     "text": [
      "Robert is not a numeric value\n",
      "There is a numeric Value: 1\n",
      "Tommy is not a numeric value\n",
      "There is a numeric Value: 50\n",
      "twelve is not a numeric value\n"
     ]
    }
   ],
   "source": [
    "list = ['Robert',1,'Tommy',50,'twelve']\n",
    "\n",
    "intType = type(2)\n",
    "\n",
    "for i in list:\n",
    " if type(i) == intType:\n",
    "  print(\"There is a numeric Value:\", i)\n",
    " else:\n",
    "  print(i, \"is not a numeric value\")\n",
    "\n",
    "\n"
   ]
  },
  {
   "cell_type": "code",
   "execution_count": null,
   "metadata": {},
   "outputs": [],
   "source": []
  }
 ],
 "metadata": {
  "kernelspec": {
   "display_name": "Python 3",
   "language": "python",
   "name": "python3"
  },
  "language_info": {
   "codemirror_mode": {
    "name": "ipython",
    "version": 3
   },
   "file_extension": ".py",
   "mimetype": "text/x-python",
   "name": "python",
   "nbconvert_exporter": "python",
   "pygments_lexer": "ipython3",
   "version": "3.7.3"
  }
 },
 "nbformat": 4,
 "nbformat_minor": 2
}
