{
 "cells": [
  {
   "cell_type": "code",
   "execution_count": 1,
   "metadata": {},
   "outputs": [
    {
     "name": "stdout",
     "output_type": "stream",
     "text": [
      "[2, 1, 3, 1, 3, 6, 6, 2]\n",
      "[1, 1, 2, 2, 3, 3, 6, 6]\n",
      "\n",
      "\n",
      "2\n",
      "2\n",
      "\n",
      "\n",
      "6\n",
      "6\n"
     ]
    }
   ],
   "source": [
    "array = [2,1,3,1,3,6,6,2]\n",
    "\n",
    "print(array)\n",
    "array.sort()\n",
    "print(array)\n",
    "\n",
    "for i in array:\n",
    " if array[i] == array[i+1]:\n",
    "  print(array[i])\n",
    " else:\n",
    "  print(\"\")\n"
   ]
  },
  {
   "cell_type": "code",
   "execution_count": null,
   "metadata": {},
   "outputs": [],
   "source": []
  }
 ],
 "metadata": {
  "kernelspec": {
   "display_name": "Python 3",
   "language": "python",
   "name": "python3"
  },
  "language_info": {
   "codemirror_mode": {
    "name": "ipython",
    "version": 3
   },
   "file_extension": ".py",
   "mimetype": "text/x-python",
   "name": "python",
   "nbconvert_exporter": "python",
   "pygments_lexer": "ipython3",
   "version": "3.7.3"
  }
 },
 "nbformat": 4,
 "nbformat_minor": 2
}
