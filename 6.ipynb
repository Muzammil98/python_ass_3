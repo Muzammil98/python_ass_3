{
 "cells": [
  {
   "cell_type": "code",
   "execution_count": 1,
   "metadata": {},
   "outputs": [
    {
     "name": "stdout",
     "output_type": "stream",
     "text": [
      "Yes there is value = 200\n",
      "{'a': 100, 'b': 200, 'c': 400}\n"
     ]
    }
   ],
   "source": [
    "dict = {\"a\":100, \"b\":200, \"c\":400}\n",
    "\n",
    "key = 'b'\n",
    "\n",
    "if key in dict.keys():\n",
    " print(\"Yes there is\", \"value =\", dict[key])\n",
    " print(dict)\n",
    "else:\n",
    " print('No there is not')\n",
    "\n"
   ]
  },
  {
   "cell_type": "code",
   "execution_count": null,
   "metadata": {},
   "outputs": [],
   "source": []
  }
 ],
 "metadata": {
  "kernelspec": {
   "display_name": "Python 3",
   "language": "python",
   "name": "python3"
  },
  "language_info": {
   "codemirror_mode": {
    "name": "ipython",
    "version": 3
   },
   "file_extension": ".py",
   "mimetype": "text/x-python",
   "name": "python",
   "nbconvert_exporter": "python",
   "pygments_lexer": "ipython3",
   "version": "3.7.3"
  }
 },
 "nbformat": 4,
 "nbformat_minor": 2
}
